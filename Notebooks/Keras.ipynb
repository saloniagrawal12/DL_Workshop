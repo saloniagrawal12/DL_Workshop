{
  "nbformat": 4,
  "nbformat_minor": 0,
  "metadata": {
    "colab": {
      "name": "Keras.ipynb",
      "version": "0.3.2",
      "provenance": [],
      "collapsed_sections": [
        "8DMibuiQNmgm",
        "T-LyEbffQfJZ"
      ],
      "toc_visible": true
    },
    "kernelspec": {
      "name": "python3",
      "display_name": "Python 3"
    },
    "accelerator": "GPU"
  },
  "cells": [
    {
      "metadata": {
        "id": "8DMibuiQNmgm",
        "colab_type": "text"
      },
      "cell_type": "markdown",
      "source": [
        "# Getting Started with Keras"
      ]
    },
    {
      "metadata": {
        "id": "lhSJDE3_Nykm",
        "colab_type": "text"
      },
      "cell_type": "markdown",
      "source": [
        "\n",
        "##**What is Keras?**\n",
        "\n",
        "Keras is a high-level neural networks API, written in Python and capable of running on top of TensorFlow, CNTK, or Theano. \n",
        "It was developed with a focus on enabling fast experimentation. "
      ]
    },
    {
      "metadata": {
        "id": "MxTy7kiXPFb2",
        "colab_type": "text"
      },
      "cell_type": "markdown",
      "source": [
        "## Keras Backends\n",
        "Keras is a model-level library, providing high-level building blocks for developing deep learning models. It does not handle itself low-level operations such as tensor products, convolutions and so on. Instead,** it relies on a specialized, well-optimized tensor manipulation library to do so, serving as the \"backend engine\" of Keras**. Rather than picking one single tensor library and making the implementation of Keras tied to that library, Keras handles the problem in a modular way, and several different backend engines can be plugged seamlessly into Keras.\n",
        "\n",
        "\n",
        "\n",
        "*   TensorFlow is an open-source symbolic tensor manipulation framework developed by **Google**.\n",
        "*   Theano is an open-source symbolic tensor manipulation framework developed by **LISA Lab** at Université de Montréal.\n",
        "*   CNTK is an open-source toolkit for deep learning developed by **Microsoft**.\n",
        "\n",
        "\n",
        "\n",
        "\n",
        "\n",
        "\n",
        "\n",
        "\n",
        "\n",
        "\n"
      ]
    },
    {
      "metadata": {
        "id": "dXh41TglBvsR",
        "colab_type": "text"
      },
      "cell_type": "markdown",
      "source": [
        "## Switching Backends"
      ]
    },
    {
      "metadata": {
        "id": "y5ATiAo5_nzd",
        "colab_type": "code",
        "colab": {}
      },
      "cell_type": "code",
      "source": [
        "import keras"
      ],
      "execution_count": 0,
      "outputs": []
    },
    {
      "metadata": {
        "id": "Y2nfne3fgKiU",
        "colab_type": "code",
        "outputId": "17b4689b-f5e9-4da6-c136-c4161b284b5a",
        "colab": {
          "base_uri": "https://localhost:8080/",
          "height": 65
        }
      },
      "cell_type": "code",
      "source": [
        "import os\n",
        "#print(os.path.expanduser('~'))\n",
        "os.chdir('/root/.keras')\n",
        "!pwd"
      ],
      "execution_count": 3,
      "outputs": [
        {
          "output_type": "stream",
          "text": [
            "/root/.keras\n"
          ],
          "name": "stdout"
        }
      ]
    },
    {
      "metadata": {
        "id": "Q1VR-CWYgX2E",
        "colab_type": "code",
        "outputId": "29b8e423-0766-4679-9cfe-9345922f91a3",
        "colab": {
          "base_uri": "https://localhost:8080/",
          "height": 65
        }
      },
      "cell_type": "code",
      "source": [
        "!ls -a"
      ],
      "execution_count": 0,
      "outputs": [
        {
          "output_type": "stream",
          "text": [
            ".  ..  keras.json\n"
          ],
          "name": "stdout"
        }
      ]
    },
    {
      "metadata": {
        "id": "OJ_z1v-1ga5a",
        "colab_type": "code",
        "outputId": "0c56bf36-cb6c-4413-90d2-4180f744df50",
        "colab": {
          "base_uri": "https://localhost:8080/",
          "height": 133
        }
      },
      "cell_type": "code",
      "source": [
        "!cat keras.json"
      ],
      "execution_count": 0,
      "outputs": [
        {
          "output_type": "stream",
          "text": [
            "{\n",
            "    \"epsilon\": 1e-07, \n",
            "    \"floatx\": \"float32\", \n",
            "    \"image_data_format\": \"channels_last\", \n",
            "    \"backend\": \"tensorflow\"\n",
            "}"
          ],
          "name": "stdout"
        }
      ]
    },
    {
      "metadata": {
        "id": "hYwtUULgCGaH",
        "colab_type": "text"
      },
      "cell_type": "markdown",
      "source": [
        "Simply change the field backend to \"**theano**\", \"**tensorflow**\", or \"**cntk**\", and Keras will use the new configuration next time you run any Keras code."
      ]
    },
    {
      "metadata": {
        "id": "fyvYPQr3Zf5E",
        "colab_type": "code",
        "outputId": "0640ebec-d281-4e0d-cc2a-7c94aa06e66d",
        "colab": {
          "base_uri": "https://localhost:8080/",
          "height": 34
        }
      },
      "cell_type": "code",
      "source": [
        "%%writefile keras.json\n",
        "{\n",
        "    \"epsilon\": 1e-07, \n",
        "    \"floatx\": \"float32\", \n",
        "    \"image_data_format\": \"channels_first\", \n",
        "    \"backend\": \"theano\"\n",
        "}\n"
      ],
      "execution_count": 0,
      "outputs": [
        {
          "output_type": "stream",
          "text": [
            "Overwriting keras.json\n"
          ],
          "name": "stdout"
        }
      ]
    },
    {
      "metadata": {
        "id": "v6XaB-qJGJWk",
        "colab_type": "code",
        "outputId": "4678277a-7356-4754-d764-5bd2259d945e",
        "colab": {
          "base_uri": "https://localhost:8080/",
          "height": 133
        }
      },
      "cell_type": "code",
      "source": [
        "!cat '/root/.keras/keras.json'"
      ],
      "execution_count": 0,
      "outputs": [
        {
          "output_type": "stream",
          "text": [
            "{\n",
            "    \"epsilon\": 1e-07, \n",
            "    \"floatx\": \"float32\", \n",
            "    \"image_data_format\": \"channels_last\", \n",
            "    \"backend\": \"theano\"\n",
            "}"
          ],
          "name": "stdout"
        }
      ]
    },
    {
      "metadata": {
        "id": "T-LyEbffQfJZ",
        "colab_type": "text"
      },
      "cell_type": "markdown",
      "source": [
        "# Creating your Deep Neural Network"
      ]
    },
    {
      "metadata": {
        "id": "I2xhqRs0ZIBj",
        "colab_type": "text"
      },
      "cell_type": "markdown",
      "source": [
        "**Steps to create your model**\n",
        "\n",
        "\n",
        "1.   Define model\n",
        "2.   Compile model\n",
        "3.   Fit model\n",
        "4.   Evaluate model\n",
        "5.   Make prediction\n",
        "\n",
        "\n"
      ]
    },
    {
      "metadata": {
        "id": "rTaM2G04cLaM",
        "colab_type": "text"
      },
      "cell_type": "markdown",
      "source": [
        "## **Sequential Model**\n",
        "\n",
        "The Sequential model is a linear stack of layers.\n",
        "Single input, single output.\n",
        "\n",
        "You can create a Sequential model by passing a list of layer instances to the constructor:"
      ]
    },
    {
      "metadata": {
        "id": "Rz3KRhlDroWn",
        "colab_type": "code",
        "colab": {}
      },
      "cell_type": "code",
      "source": [
        "from keras.models import Sequential\n",
        "from keras.layers import Dense, Activation\n",
        "\n",
        "model = Sequential([\n",
        "    Dense(32, input_shape=(784,)),\n",
        "    Activation('relu'),\n",
        "    Dense(10),\n",
        "    Activation('softmax'),\n",
        "])"
      ],
      "execution_count": 0,
      "outputs": []
    },
    {
      "metadata": {
        "id": "QtW0pXSPsPGo",
        "colab_type": "text"
      },
      "cell_type": "markdown",
      "source": [
        "You can also simply add layers via the .add() method:\n",
        "\n"
      ]
    },
    {
      "metadata": {
        "id": "c0KC99eJsOPi",
        "colab_type": "code",
        "colab": {}
      },
      "cell_type": "code",
      "source": [
        "model = Sequential()\n",
        "model.add(Dense(32, input_dim=784))\n",
        "model.add(Activation('relu'))"
      ],
      "execution_count": 0,
      "outputs": []
    },
    {
      "metadata": {
        "id": "X1LBdN9StoDj",
        "colab_type": "text"
      },
      "cell_type": "markdown",
      "source": [
        "## **Compilation**\n",
        "\n",
        "Before training a model, you need to configure the learning process, which is done via the compile method. It receives three arguments:\n",
        "\n",
        "**An optimizer.** This could be the string identifier of an existing optimizer (such as rmsprop or adam) See: [optimizers](https://keras.io/optimizers/).\n",
        "\n",
        "**A loss function.** This is the objective that the model will try to minimize. It can be the string identifier of an existing loss function (such as categorical_crossentropy or mse), See: [losses](https://keras.io/losses/).\n",
        "\n",
        "**A list of metrics**. For any classification problem you will want to set this to metrics=['accuracy']. A metric could be the string identifier of an existing metric or a custom metric function.\n",
        "\n"
      ]
    },
    {
      "metadata": {
        "id": "UoKR1cENtQu-",
        "colab_type": "code",
        "colab": {}
      },
      "cell_type": "code",
      "source": [
        "# For a binary classification problem\n",
        "model.compile(optimizer='rmsprop',\n",
        "              loss='binary_crossentropy',\n",
        "              metrics=['accuracy'])"
      ],
      "execution_count": 0,
      "outputs": []
    },
    {
      "metadata": {
        "id": "wuUPj67Lvkv8",
        "colab_type": "text"
      },
      "cell_type": "markdown",
      "source": [
        "## Training\n",
        "Keras models are trained on Numpy arrays of input data and labels. For training a model, you will typically use the fit function.\n",
        "\n",
        "\n",
        "\n",
        "```\n",
        "model.fit(data, labels, epochs, batch_size)\n",
        "```\n",
        "\n"
      ]
    },
    {
      "metadata": {
        "id": "9TKi406JwbCT",
        "colab_type": "text"
      },
      "cell_type": "markdown",
      "source": [
        "# Example: MNIST using Keras"
      ]
    },
    {
      "metadata": {
        "id": "DZq17PJ2J3rc",
        "colab_type": "text"
      },
      "cell_type": "markdown",
      "source": [
        "**Load Dataset**"
      ]
    },
    {
      "metadata": {
        "id": "6u8LEZJSwiXv",
        "colab_type": "code",
        "colab": {}
      },
      "cell_type": "code",
      "source": [
        ""
      ],
      "execution_count": 0,
      "outputs": []
    },
    {
      "metadata": {
        "id": "58nW0uOyJ8xL",
        "colab_type": "text"
      },
      "cell_type": "markdown",
      "source": [
        "**Define Model**"
      ]
    },
    {
      "metadata": {
        "id": "LmhEta_pKL-i",
        "colab_type": "code",
        "colab": {}
      },
      "cell_type": "code",
      "source": [
        ""
      ],
      "execution_count": 0,
      "outputs": []
    },
    {
      "metadata": {
        "id": "NWCtXwRkKi5q",
        "colab_type": "text"
      },
      "cell_type": "markdown",
      "source": [
        "**Compile**"
      ]
    },
    {
      "metadata": {
        "id": "ROad3hMLKl7u",
        "colab_type": "code",
        "colab": {}
      },
      "cell_type": "code",
      "source": [
        ""
      ],
      "execution_count": 0,
      "outputs": []
    },
    {
      "metadata": {
        "id": "3CEBXNHIKmpY",
        "colab_type": "text"
      },
      "cell_type": "markdown",
      "source": [
        "**Train**"
      ]
    },
    {
      "metadata": {
        "id": "2DGFuha5Ktml",
        "colab_type": "code",
        "colab": {}
      },
      "cell_type": "code",
      "source": [
        ""
      ],
      "execution_count": 0,
      "outputs": []
    },
    {
      "metadata": {
        "id": "C9P6fwdxKvFp",
        "colab_type": "text"
      },
      "cell_type": "markdown",
      "source": [
        "**Evaluation**"
      ]
    },
    {
      "metadata": {
        "id": "W8mmGcEKK6QR",
        "colab_type": "code",
        "colab": {}
      },
      "cell_type": "code",
      "source": [
        ""
      ],
      "execution_count": 0,
      "outputs": []
    },
    {
      "metadata": {
        "id": "7ZNCSejXK8Ok",
        "colab_type": "text"
      },
      "cell_type": "markdown",
      "source": [
        "**Prediction**"
      ]
    },
    {
      "metadata": {
        "id": "sE0ko3cLK697",
        "colab_type": "code",
        "colab": {}
      },
      "cell_type": "code",
      "source": [
        ""
      ],
      "execution_count": 0,
      "outputs": []
    }
  ]
}